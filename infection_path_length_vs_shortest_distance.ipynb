{
 "cells": [
  {
   "cell_type": "code",
   "execution_count": 5,
   "metadata": {
    "collapsed": false
   },
   "outputs": [],
   "source": [
    "%matplotlib notebook\n",
    "# starter code\n",
    "import random\n",
    "import numpy as np\n",
    "from matplotlib import pyplot as plt\n",
    "from tqdm import tqdm\n",
    "import networkx as nx\n",
    "from graph_tool.all import load_graph, shortest_distance, GraphView, pseudo_diameter\n",
    "from networkx.drawing.nx_agraph import graphviz_layout\n",
    "from joblib import Parallel, delayed\n",
    "\n",
    "from ic import simulate_cascade, observe_cascade, get_gvs, get_o2src_time, get_infection_time, gen_nontrivial_cascade\n",
    "from utils import get_rank_index\n",
    "\n",
    "seed = 123456\n",
    "random.seed(seed)\n",
    "np.random.seed(seed)\n",
    "\n",
    "gtype = 'arxiv-hep-th'\n",
    "g = load_graph('data/{}/graph.gt'.format(gtype))\n",
    "gnx = nx.read_graphml('data/{}/graph.graphml'.format(gtype))\n",
    "gnx = nx.relabel_nodes(gnx, {i: int(i) for i in gnx.nodes_iter()})\n",
    "N1, N2 = 10, 100\n",
    "p, q = 0.5, 0.2\n",
    "\n",
    "# gvs = get_gvs(g, p, N2)\n",
    "# pos = graphviz_layout(gnx, root=0)"
   ]
  },
  {
   "cell_type": "code",
   "execution_count": 6,
   "metadata": {
    "collapsed": true
   },
   "outputs": [],
   "source": [
    "def one_run(g, p, N1):\n",
    "    mean_diffs = []\n",
    "    for i in range(N1):    \n",
    "        source, _, tree = simulate_cascade(g, p, return_tree=True)\n",
    "        dist1 = get_infection_time(tree, source=source)\n",
    "        dist2 = get_infection_time(g, source=source)\n",
    "        infected_nodes = np.nonzero(dist1 != -1)[0]\n",
    "        diff = np.abs((dist1 - dist2)[infected_nodes])\n",
    "        mean_diffs.append(np.mean(diff))\n",
    "    return np.mean(mean_diffs)\n",
    "    "
   ]
  },
  {
   "cell_type": "code",
   "execution_count": 7,
   "metadata": {
    "collapsed": false
   },
   "outputs": [
    {
     "name": "stderr",
     "output_type": "stream",
     "text": [
      "100%|██████████| 10/10 [00:00<00:00, 33.56it/s]\n"
     ]
    }
   ],
   "source": [
    "diff_mean = Parallel(n_jobs=-1)(delayed(one_run)(g, p, N1) for p in tqdm(np.linspace(0.1, 1.0, 10)))"
   ]
  },
  {
   "cell_type": "code",
   "execution_count": 8,
   "metadata": {
    "collapsed": false
   },
   "outputs": [
    {
     "data": {
      "text/plain": [
       "[1.5078423645320196,\n",
       " 1.4523513694054777,\n",
       " 1.2173230314668635,\n",
       " 2.1054380980337983,\n",
       " 1.4428932919616237,\n",
       " 1.0908995975696842,\n",
       " 0.62321357823505308,\n",
       " 0.45788120139453464,\n",
       " 0.16274596075680495,\n",
       " 0.0]"
      ]
     },
     "execution_count": 8,
     "metadata": {},
     "output_type": "execute_result"
    }
   ],
   "source": [
    "diff_mean"
   ]
  }
 ],
 "metadata": {
  "kernelspec": {
   "display_name": "Python 3",
   "language": "python",
   "name": "python3"
  },
  "language_info": {
   "codemirror_mode": {
    "name": "ipython",
    "version": 3
   },
   "file_extension": ".py",
   "mimetype": "text/x-python",
   "name": "python",
   "nbconvert_exporter": "python",
   "pygments_lexer": "ipython3",
   "version": "3.5.2"
  }
 },
 "nbformat": 4,
 "nbformat_minor": 2
}
